{
 "cells": [
  {
   "cell_type": "markdown",
   "metadata": {},
   "source": [
    "# **Insper - Eletromagnetismo e Ondulatória** #\n",
    "\n",
    "\n",
    "**Laboratório 2 - Indutância e Transformador**\n",
    "\n"
   ]
  },
  {
   "cell_type": "code",
   "execution_count": 1,
   "metadata": {},
   "outputs": [],
   "source": [
    "import numpy as np\n",
    "from numpy import linalg\n",
    "from cmath import *\n",
    "import math\n"
   ]
  },
  {
   "cell_type": "markdown",
   "metadata": {},
   "source": [
    "a) Declare as variáveis do transformador ($R_1$, $R_2$, $L_1$, $L_2$) e da fonte (frequência e tensão eficaz - Ufonte)"
   ]
  },
  {
   "cell_type": "code",
   "execution_count": 2,
   "metadata": {},
   "outputs": [],
   "source": [
    "#indutâncias\n",
    "L1 = 4.51\n",
    "L2 = 0.5\n",
    "#resistências\n",
    "R1 = 4.7\n",
    "R2 = 1.5\n",
    "\n",
    "#frequência\n",
    "f = 60\n",
    "\n",
    "#tensão eficaz\n",
    "Ufonte = 30.12\n"
   ]
  },
  {
   "cell_type": "markdown",
   "metadata": {},
   "source": [
    "b) Calcule na célula abaixo:\n",
    "\n",
    "- Frequência angular\n",
    "- Indutância Mútua (incluindo a constante k)\n",
    "- Reatâncias indutivas de $L_1$ e $L_2$\n",
    "- Reatância indutiva mútua\n",
    "\n",
    "Obsrvação: o número complexo $j=\\sqrt{-1}$ é nativo da linguagem Python. Para escrever $j$, digite \"1j\"\n"
   ]
  },
  {
   "cell_type": "code",
   "execution_count": 3,
   "metadata": {},
   "outputs": [],
   "source": [
    "#frequência angular\n",
    "w = 2*math.pi*f\n",
    "\n",
    "\n",
    "#dispersão\n",
    "\n",
    "#indutância mútua\n",
    "M = 0.96 * math.sqrt(L1*L2)\n",
    "\n",
    "\n",
    "#reatâncias indutivas\n",
    "XL1 = 1j*w*L1\n",
    "XL2 = 1j*w*L2\n",
    "XM = 1j*w*M\n"
   ]
  },
  {
   "cell_type": "markdown",
   "metadata": {},
   "source": [
    "c) Observe a função que criamos na célula abaixo. É a mesma que você usou nas aulas 10 e 11."
   ]
  },
  {
   "cell_type": "code",
   "execution_count": 4,
   "metadata": {},
   "outputs": [],
   "source": [
    "def CalcularTransformador(Uf, Rc):\n",
    "    Z=np.array([[R1+XL1, -XM],[-XM, XL2+R2+Rc]])\n",
    "    V=np.array([Uf,0])\n",
    "    i=np.dot(linalg.inv(Z),V)\n",
    "    return i[0], i[1]"
   ]
  },
  {
   "cell_type": "markdown",
   "metadata": {},
   "source": [
    "d) Agora calcule as correntes $i_1$ e $i_2$ para as duas condições de carga. Assim que calcular as correntes, calcule também $V_2$.\n",
    "\n",
    "IMPORTANTE: para calcular as relações $N_1/N_2$, $V_1/V_2$ e $i_2/i_1$, você precisará usar o módulo dos fasores. Para calcular o módulo de um número complexo, use \"np.abs(número complexo)\"."
   ]
  },
  {
   "cell_type": "code",
   "execution_count": 5,
   "metadata": {},
   "outputs": [
    {
     "name": "stdout",
     "output_type": "stream",
     "text": [
      "Com resistor na saída de 10.00 Ω:\n",
      "i1 (eficaz) = 0.175843 A\n",
      "i2 (eficaz) = 0.506050 A\n",
      "V1 (eficaz): 30.120000 V\n",
      "V2 (eficaz): 5.060503 V\n",
      "Relação N1/N2: 3.003\n",
      "Relação i2/i1: 2.877847\n",
      "Relação V1/V2: 5.951977\n"
     ]
    }
   ],
   "source": [
    "Rcarga = 10\n",
    "\n",
    "i1, i2 = CalcularTransformador(Ufonte, Rcarga)\n",
    "\n",
    "print('Com resistor na saída de %.2f Ω:' %Rcarga)\n",
    "print('i1 (eficaz) = %.6f A' %np.abs(i1))\n",
    "print('i2 (eficaz) = %.6f A' %np.abs(i2))\n",
    "print('V1 (eficaz): %.6f V' %Ufonte)\n",
    "print('V2 (eficaz): %.6f V' %(np.abs(i2*Rcarga)))\n",
    "\n",
    "print('Relação N1/N2: %.3f' %(np.abs(sqrt(L1/L2))))\n",
    "print('Relação i2/i1: %.6f' %(np.abs(i2)/np.abs(i1)))\n",
    "print('Relação V1/V2: %.6f' %(np.abs(Ufonte)/np.abs(i2*Rcarga)))\n",
    "\n"
   ]
  },
  {
   "cell_type": "code",
   "execution_count": null,
   "metadata": {},
   "outputs": [],
   "source": []
  }
 ],
 "metadata": {
  "kernelspec": {
   "display_name": "Python 3",
   "language": "python",
   "name": "python3"
  },
  "language_info": {
   "codemirror_mode": {
    "name": "ipython",
    "version": 3
   },
   "file_extension": ".py",
   "mimetype": "text/x-python",
   "name": "python",
   "nbconvert_exporter": "python",
   "pygments_lexer": "ipython3",
   "version": "3.12.6"
  }
 },
 "nbformat": 4,
 "nbformat_minor": 4
}
