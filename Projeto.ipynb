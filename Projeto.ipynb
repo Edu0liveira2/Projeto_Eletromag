{
 "cells": [
  {
   "cell_type": "markdown",
   "metadata": {},
   "source": [
    "# **Insper - Eletromagnetismo e Ondulatória** #\n",
    "\n",
    "\n",
    "**Laboratório 2 - Indutância e Transformador**\n",
    "\n"
   ]
  },
  {
   "cell_type": "code",
   "execution_count": null,
   "metadata": {},
   "outputs": [],
   "source": [
    "import numpy as np\n",
    "from numpy import linalg\n",
    "from cmath import *\n",
    "import math\n",
    "import matplotlib.pyplot as plt"
   ]
  },
  {
   "cell_type": "code",
   "execution_count": null,
   "metadata": {},
   "outputs": [],
   "source": [
    "Capacitores = [150*1e-9, 0.1*1e-6, 0.47*1e-6, 1e-6, 4.7*1e-6]\n",
    "Css = ['150nF', '0.1uF', '0.47uF', '1uF', '4.7uF']\n",
    "fs = np.arange(1, 100*1e3, 10)\n",
    "Rc = np.arange(5,30,5)\n",
    "k = 0.2\n",
    "Uf = 12\n",
    "\n",
    "\n",
    "\n",
    "#frequência angular\n",
    "#w = 2*math.pi*f\n",
    "\n",
    "\n",
    "#dispersão\n",
    "\n",
    "#indutância mútua\n",
    "#M = 0.96 * math.sqrt(L1*L2)\n",
    "\n",
    "\n",
    "#reatâncias indutivas\n",
    "#XL1 = 1j*w*L1\n",
    "#XL2 = 1j*w*L2\n",
    "#XM = 1j*w*M"
   ]
  },
  {
   "cell_type": "code",
   "execution_count": null,
   "metadata": {},
   "outputs": [],
   "source": [
    "#def CalcularTransformador(Uf, Rc):\n",
    "    #Z=np.array([[R1+XL1, -XM],[-XM, XL2+R2+Rc]])\n",
    "    #V=np.array([Uf,0])\n",
    "    #i=np.dot(linalg.inv(Z),V)\n",
    "    #return i[0], i[1]\n",
    "\n",
    "\n",
    "resultados = []\n",
    "\n",
    "def CalcularTransformadorSerie(Uf, c, f, Rc):\n",
    "\n",
    "    C1 = c\n",
    "    C2 = c\n",
    "    w = 2*np.pi*f\n",
    "    L1 = 1/(w**2*C1)\n",
    "    L2 = 1/(w**2*C2)\n",
    "    R1 = 2\n",
    "    R2 = 2\n",
    "    R1 = R1 + (R1*f)/(1e5)\n",
    "    R2 = R2 + (R2*f)/(1e5)\n",
    "\n",
    "    M = k * sqrt(L1 * L2)\n",
    "    XL1 = complex(0, w * L1)\n",
    "    XL2 = complex(0, w * L2)\n",
    "    XC1 = complex(0, -1/(w * C1))\n",
    "    XC2 = complex(0, -1/(w * C2))\n",
    "    XM = complex(0, w * M)\n",
    "    \n",
    "    for rc in Rc:\n",
    "        Z = np.array([\n",
    "            [R1 + XL1 + XC1, -XM],\n",
    "            [-XM, R2 + XL2 + rc]\n",
    "        ])\n",
    "        V = np.array([Uf, 0])\n",
    "        i = np.dot(linalg.inv(Z), V)\n",
    "\n",
    "        resultados.append((i[0], i[1]))\n",
    "\n",
    "    return resultados \n",
    "\n",
    "def CalcularTransformadorParalelo(Uf, c, f):\n",
    "    C1 = c\n",
    "    C2 = c\n",
    "    w = 2*np.pi*f\n",
    "    L1 = 1/(w**2*C1)\n",
    "    L2 = 1/(w**2*C2)\n",
    "    R1 = 2\n",
    "    R2 = 2\n",
    "    R1 = R1 + (R1*f)/(1e5)\n",
    "    R2 = R2 + (R2*f)/(1e5)\n",
    "\n",
    "    M = k * sqrt(L1 * L2)\n",
    "    XL1 = complex(0, w * L1)\n",
    "    XL2 = complex(0, w * L2)\n",
    "    XC1 = complex(0, -1/(w * C1))\n",
    "    XC2 = complex(0, -1/(w * C2))\n",
    "    XM = complex(0, w * M)\n",
    "\n",
    "    for rc in Rc:\n",
    "        Zeq_C2_RC = (rc * XC2) / (rc + XC2)\n",
    "\n",
    "        Z = np.array([\n",
    "            [R1 + XL1 + XC1, -XM],\n",
    "            [-XM, R2 + XL2 + Zeq_C2_RC]\n",
    "        ])\n",
    "        V = np.array([Uf, 0])\n",
    "        i = np.dot(linalg.inv(Z), V)\n",
    "        resultados.append((i[0], i[1], Zeq_C2_RC))\n",
    "\n",
    "    return resultados \n"
   ]
  },
  {
   "cell_type": "markdown",
   "metadata": {},
   "source": [
    "d) Agora calcule as correntes $i_1$ e $i_2$ para as duas condições de carga. Assim que calcular as correntes, calcule também $V_2$.\n",
    "\n",
    "IMPORTANTE: para calcular as relações $N_1/N_2$, $V_1/V_2$ e $i_2/i_1$, você precisará usar o módulo dos fasores. Para calcular o módulo de um número complexo, use \"np.abs(número complexo)\"."
   ]
  },
  {
   "cell_type": "code",
   "execution_count": null,
   "metadata": {},
   "outputs": [
    {
     "name": "stdout",
     "output_type": "stream",
     "text": [
      "Com resistor na saída de 10.00 Ω:\n",
      "i1 (eficaz) = 0.175843 A\n",
      "i2 (eficaz) = 0.506050 A\n",
      "V1 (eficaz): 30.120000 V\n",
      "V2 (eficaz): 5.060503 V\n",
      "Relação N1/N2: 3.003\n",
      "Relação i2/i1: 2.877847\n",
      "Relação V1/V2: 5.951977\n"
     ]
    }
   ],
   "source": [
    "#Rcarga = 10\n",
    "\n",
    "#i1, i2 = CalcularTransformador(Ufonte, Rcarga)\n",
    "\n",
    "#print('Com resistor na saída de %.2f Ω:' %Rcarga)\n",
    "#print('i1 (eficaz) = %.6f A' %np.abs(i1))\n",
    "#print('i2 (eficaz) = %.6f A' %np.abs(i2))\n",
    "#print('V1 (eficaz): %.6f V' %Ufonte)\n",
    "#print('V2 (eficaz): %.6f V' %(np.abs(i2*Rcarga)))\n",
    "\n",
    "#print('Relação N1/N2: %.3f' %(np.abs(sqrt(L1/L2))))\n",
    "#print('Relação i2/i1: %.6f' %(np.abs(i2)/np.abs(i1)))\n",
    "#print('Relação V1/V2: %.6f' %(np.abs(Ufonte)/np.abs(i2*Rcarga)))\n",
    "\n"
   ]
  },
  {
   "cell_type": "code",
   "execution_count": null,
   "metadata": {},
   "outputs": [],
   "source": []
  }
 ],
 "metadata": {
  "kernelspec": {
   "display_name": "Python 3",
   "language": "python",
   "name": "python3"
  },
  "language_info": {
   "codemirror_mode": {
    "name": "ipython",
    "version": 3
   },
   "file_extension": ".py",
   "mimetype": "text/x-python",
   "name": "python",
   "nbconvert_exporter": "python",
   "pygments_lexer": "ipython3",
   "version": "3.12.6"
  }
 },
 "nbformat": 4,
 "nbformat_minor": 4
}
